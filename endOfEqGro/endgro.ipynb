{
 "cells": [
  {
   "cell_type": "code",
   "execution_count": 109,
   "metadata": {},
   "outputs": [
    {
     "data": {
      "text/plain": [
       "\"acec1_atoms = {\\n    'C1'=[identifier, x, y, z],\\n    'C2'=[identifer, x, y, z]\\n}\\n\\nacec_res = {\\n    '1acec'= [acec1_atoms],\\n    '2acec'= [acec2_atoms]\\n}\\n\\namo = {\\n    'aceclofenac':[atom_count, acec_res, box_length],    \\n}\""
      ]
     },
     "execution_count": 109,
     "metadata": {},
     "output_type": "execute_result"
    }
   ],
   "source": [
    "# dictionary final state\n",
    "\n",
    "'''amo = {\n",
    "    'molecule_name'={\n",
    "        atom_count:,\n",
    "        box_length:,\n",
    "        residues={\n",
    "            'res1'={\n",
    "                'Atom1'={\n",
    "                    'uniqueID':,\n",
    "                    'coordinates':[]\n",
    "                }\n",
    "            }\n",
    "        }\n",
    "    }\n",
    "}\n",
    "\n",
    "\n",
    "# populated with one drug, aceclofenac\n",
    "\n",
    "amo = {\n",
    "    'aceclofenac'={\n",
    "        atom_count:8202,\n",
    "        box_length:4.52041,\n",
    "        residues={\n",
    "            'acec1'={\n",
    "                'C1'={\n",
    "                    'uniqueID':1,\n",
    "                    'coordinates'=[3.727, 3.591, 1.026]\n",
    "                }\n",
    "            }\n",
    "        }\n",
    "    },\n",
    "    'next_drug'\n",
    "}'''"
   ]
  },
  {
   "cell_type": "code",
   "execution_count": 2,
   "metadata": {},
   "outputs": [],
   "source": [
    "# import relevant packages\n",
    "import numpy as np\n",
    "import pandas as pd\n",
    "import os"
   ]
  },
  {
   "cell_type": "code",
   "execution_count": 3,
   "metadata": {},
   "outputs": [],
   "source": [
    "def read_gro(filename):\n",
    "    global molecule, atom_count, res, atm, atm_id, x, y, z, coord, box_length\n",
    "    res = []; atm = []; atm_id = []; x = []; y = []; z = []; coord = []\n",
    "    with open(filename) as gro:\n",
    "        molecule=os.path.splitext(filename)[0]\n",
    "        # skip first line, contains no relevant information\n",
    "        next(gro)\n",
    "        # store second line as total atoms in drug\n",
    "        atom_count = int(next(gro))\n",
    "        for line in gro: \n",
    "            # if/else to distinguish between residue data and box length\n",
    "            if molecule[0:4] in line.lower():\n",
    "                # remove new line character and split into categories\n",
    "                col = line.strip().split()\n",
    "                res.append(col[0])\n",
    "                atm.append(col[1])\n",
    "                atm_id.append(col[2])\n",
    "                x.append(col[3])\n",
    "                y.append(col[4])\n",
    "                z.append(col[5])\n",
    "                coord.append(col[3:6])\n",
    "            # final line stored as box length   \n",
    "            else:\n",
    "                box_length=line.split()[0]\n",
    "        return molecule, atom_count, res, atm, atm_id, x, y, z, coord, box_length"
   ]
  },
  {
   "cell_type": "code",
   "execution_count": 3,
   "metadata": {},
   "outputs": [],
   "source": [
    "directory = '../../Data/endOfEqGro'\n",
    "amo_gro={}\n",
    "\n",
    "for filename in os.listdir(directory):\n",
    "    if filename.endswith(\".gro\"):\n",
    "        read_gro(filename)\n",
    "        amo_gro[molecule]={\n",
    "            'atom_count':atom_count,\n",
    "            'box_length':box_length,\n",
    "            'residues':{\n",
    "                molecule[0:4]:{\n",
    "                    'atm_id':atm_id[0],\n",
    "                    'coord':coord[0]\n",
    "                }\n",
    "            }\n",
    "        }"
   ]
  },
  {
   "cell_type": "code",
   "execution_count": 4,
   "metadata": {},
   "outputs": [
    {
     "name": "stdout",
     "output_type": "stream",
     "text": [
      "{'aceclofenac': {'atom_count': 8208, 'box_length': '4.70508', 'residues': {'acec': {'atm_id': '1', 'coord': ['3.315', '4.234', '3.418']}}}, 'acemetacin': {'atom_count': 10368, 'box_length': '5.06135', 'residues': {'acem': {'atm_id': '1', 'coord': ['4.762', '4.382', '2.148']}}}, 'acetaminophen': {'atom_count': 4320, 'box_length': '3.72364', 'residues': {'acet': {'atm_id': '1', 'coord': ['1.374', '3.636', '1.791']}}}, 'acetohexamide': {'atom_count': 9072, 'box_length': '4.71995', 'residues': {'acet': {'atm_id': '1', 'coord': ['0.706', '1.499', '2.838']}}}, 'albendazole': {'atom_count': 7128, 'box_length': '4.48576', 'residues': {'albe': {'atm_id': '1', 'coord': ['3.434', '4.183', '0.573']}}}, 'amobarbital': {'atom_count': 7344, 'box_length': '4.34146', 'residues': {'amob': {'atm_id': '1', 'coord': ['0.050', '1.573', '0.730']}}}, 'atropine': {'atom_count': 9504, 'box_length': '4.72577', 'residues': {'atro': {'atm_id': '1', 'coord': ['1.171', '2.813', '1.436']}}}, 'bicalutamide': {'atom_count': 9288, 'box_length': '4.95529', 'residues': {'bica': {'atm_id': '1', 'coord': ['3.057', '2.409', '3.775']}}}, 'bifonazole': {'atom_count': 9072, 'box_length': '4.86540', 'residues': {'bifo': {'atm_id': '1', 'coord': ['2.557', '1.346', '4.598']}}}, 'bucetin': {'atom_count': 7128, 'box_length': '4.33730', 'residues': {'buce': {'atm_id': '1', 'coord': ['0.344', '3.242', '2.573']}}}, 'bucindolol': {'atom_count': 11232, 'box_length': '5.15776', 'residues': {'buci': {'atm_id': '1', 'coord': ['1.794', '1.443', '3.415']}}}, 'bufexmac': {'atom_count': 7128, 'box_length': '4.37845', 'residues': {'bufe': {'atm_id': '1', 'coord': ['3.333', '3.666', '2.637']}}}, 'caffeine': {'atom_count': 5184, 'box_length': '3.89736', 'residues': {'caff': {'atm_id': '1', 'coord': ['3.468', '1.982', '1.195']}}}, 'captopril': {'atom_count': 6264, 'box_length': '4.16609', 'residues': {'capt': {'atm_id': '1', 'coord': ['0.495', '3.947', '3.579']}}}, 'carbamazepine': {'atom_count': 6480, 'box_length': '4.29768', 'residues': {'carb': {'atm_id': '1', 'coord': ['0.668', '0.365', '2.120']}}}, 'carvedilol': {'atom_count': 12096, 'box_length': '5.20983', 'residues': {'carv': {'atm_id': '1', 'coord': ['4.669', '4.924', '3.990']}}}, 'cefoxitin': {'atom_count': 9720, 'box_length': '4.98850', 'residues': {'cefo': {'atm_id': '1', 'coord': ['1.967', '1.910', '4.493']}}}, 'celecoxib': {'atom_count': 8640, 'box_length': '4.89970', 'residues': {'cele': {'atm_id': '1', 'coord': ['3.978', '2.977', '0.125']}}}, 'cellobiose': {'atom_count': 9720, 'box_length': '4.57266', 'residues': {'cell': {'atm_id': '1', 'coord': ['0.302', '0.440', '3.815']}}}, 'chloramphenicol': {'atom_count': 7344, 'box_length': '4.52526', 'residues': {'chlo': {'atm_id': '1', 'coord': ['1.439', '3.253', '1.883']}}}, 'chlorzoxazone': {'atom_count': 3456, 'box_length': '3.58941', 'residues': {'chlo': {'atm_id': '1', 'coord': ['3.163', '1.333', '1.179']}}}, 'cinnarizine': {'atom_count': 12096, 'box_length': '5.27817', 'residues': {'cinn': {'atm_id': '1', 'coord': ['4.448', '5.213', '5.182']}}}, 'clemastine': {'atom_count': 11016, 'box_length': '5.11573', 'residues': {'clem': {'atm_id': '1', 'coord': ['1.528', '2.083', '3.476']}}}, 'clotrimazole': {'atom_count': 9288, 'box_length': '4.89111', 'residues': {'clot': {'atm_id': '1', 'coord': ['0.002', '3.275', '0.645']}}}, 'diazepam': {'atom_count': 7344, 'box_length': '4.48078', 'residues': {'diaz': {'atm_id': '1', 'coord': ['1.789', '1.367', '1.330']}}}, 'diethylstilbestrol': {'atom_count': 8640, 'box_length': '4.71370', 'residues': {'diet': {'atm_id': '1', 'coord': ['0.072', '4.503', '2.445']}}}, 'diflunisal': {'atom_count': 5616, 'box_length': '4.15267', 'residues': {'difl': {'atm_id': '1', 'coord': ['1.714', '1.493', '3.069']}}}, 'dyphylline': {'atom_count': 6912, 'box_length': '4.18059', 'residues': {'dyph': {'atm_id': '1', 'coord': ['2.265', '2.379', '0.321']}}}, 'emtricitabine': {'atom_count': 5616, 'box_length': '4.08092', 'residues': {'emtr': {'atm_id': '1', 'coord': ['0.498', '3.655', '3.151']}}}, 'estradiol': {'atom_count': 9504, 'box_length': '4.69603', 'residues': {'estr': {'atm_id': '1', 'coord': ['4.627', '1.032', '2.788']}}}, 'ezetimibe': {'atom_count': 11016, 'box_length': '5.13088', 'residues': {'ezet': {'atm_id': '1', 'coord': ['1.591', '0.775', '3.331']}}}, 'famotide': {'atom_count': 7560, 'box_length': '4.47596', 'residues': {'famo': {'atm_id': '1', 'coord': ['2.203', '4.213', '3.201']}}}, 'felodipine': {'atom_count': 9936, 'box_length': '5.06854', 'residues': {'felo': {'atm_id': '1', 'coord': ['1.652', '3.723', '0.589']}}}, 'fenbufen': {'atom_count': 7128, 'box_length': '4.49002', 'residues': {'fenb': {'atm_id': '1', 'coord': ['3.379', '3.939', '2.486']}}}, 'flumequine': {'atom_count': 6696, 'box_length': '4.36998', 'residues': {'flum': {'atm_id': '1', 'coord': ['2.771', '3.856', '2.764']}}}, 'flurbiprofen': {'atom_count': 6696, 'box_length': '4.44990', 'residues': {'flur': {'atm_id': '1', 'coord': ['3.396', '1.646', '1.238']}}}, 'glafenine': {'atom_count': 9504, 'box_length': '4.93037', 'residues': {'glaf': {'atm_id': '1', 'coord': ['0.541', '0.962', '2.715']}}}, 'glyburide': {'atom_count': 13392, 'box_length': '5.43069', 'residues': {'glyb': {'atm_id': '1', 'coord': ['4.390', '1.625', '2.764']}}}, 'griseofulvin': {'atom_count': 9072, 'box_length': '4.92301', 'residues': {'gris': {'atm_id': '1', 'coord': ['4.714', '4.057', '0.908']}}}, 'hydrochlorothiazide': {'atom_count': 5616, 'box_length': '4.12624', 'residues': {'hydr': {'atm_id': '1', 'coord': ['2.895', '0.396', '0.429']}}}, 'hydroflumethiazide': {'atom_count': 6048, 'box_length': '4.23996', 'residues': {'hydr': {'atm_id': '1', 'coord': ['2.512', '3.345', '0.679']}}}, 'hymecromone': {'atom_count': 4536, 'box_length': '3.76401', 'residues': {'hyme': {'atm_id': '1', 'coord': ['1.110', '2.461', '3.459']}}}, 'ibuprofen': {'atom_count': 7128, 'box_length': '4.38720', 'residues': {'ibup': {'atm_id': '1', 'coord': ['0.029', '2.820', '3.565']}}}, 'indomethacin': {'atom_count': 9072, 'box_length': '4.84639', 'residues': {'indo': {'atm_id': '1', 'coord': ['3.602', '3.567', '0.118']}}}, 'indoprofen': {'atom_count': 7776, 'box_length': '4.50676', 'residues': {'indo': {'atm_id': '1', 'coord': ['0.649', '2.992', '4.497']}}}, 'isradipine': {'atom_count': 10368, 'box_length': '5.08801', 'residues': {'isra': {'atm_id': '1', 'coord': ['2.828', '0.672', '3.301']}}}, 'ketoprofen': {'atom_count': 7128, 'box_length': '4.49522', 'residues': {'keto': {'atm_id': '1', 'coord': ['2.031', '2.584', '0.601']}}}, 'lactose': {'atom_count': 9720, 'box_length': '4.60742', 'residues': {'lact': {'atm_id': '1', 'coord': ['3.369', '0.111', '2.307']}}}, 'lamivudine': {'atom_count': 5616, 'box_length': '4.01808', 'residues': {'lami': {'atm_id': '1', 'coord': ['3.170', '0.989', '2.205']}}}, 'linaprazan': {'atom_count': 11448, 'box_length': '5.09864', 'residues': {'lina': {'atm_id': '1', 'coord': ['0.056', '2.018', '2.082']}}}, 'mannitol': {'atom_count': 5616, 'box_length': '3.82917', 'residues': {'mann': {'atm_id': '1', 'coord': ['1.265', '2.304', '3.122']}}}, 'mefenamic_acid': {'atom_count': 7128, 'box_length': '4.52940', 'residues': {'mefe': {'atm_id': '1', 'coord': ['1.707', '3.200', '0.269']}}}, 'mephenesin': {'atom_count': 5832, 'box_length': '4.09893', 'residues': {'meph': {'atm_id': '1', 'coord': ['0.113', '3.119', '2.665']}}}, 'methyltestosterone': {'atom_count': 11232, 'box_length': '4.82558', 'residues': {'meth': {'atm_id': '1', 'coord': ['3.813', '1.198', '4.654']}}}, 'metolazone': {'atom_count': 8856, 'box_length': '4.81053', 'residues': {'meto': {'atm_id': '1', 'coord': ['3.171', '0.907', '2.270']}}}, 'miconazole': {'atom_count': 9288, 'box_length': '4.93612', 'residues': {'mico': {'atm_id': '1', 'coord': ['2.359', '1.514', '1.473']}}}, 'nandrolone': {'atom_count': 9936, 'box_length': '4.71253', 'residues': {'nand': {'atm_id': '1', 'coord': ['3.310', '3.166', '3.674']}}}, 'naproxen': {'atom_count': 6696, 'box_length': '4.35802', 'residues': {'napr': {'atm_id': '1', 'coord': ['0.713', '4.224', '3.216']}}}, 'nialamide': {'atom_count': 8640, 'box_length': '4.65485', 'residues': {'nial': {'atm_id': '1', 'coord': ['3.594', '1.389', '0.389']}}}, 'nifedipine': {'atom_count': 9288, 'box_length': '4.89941', 'residues': {'nife': {'atm_id': '1', 'coord': ['1.391', '0.346', '2.809']}}}, 'nilutamide': {'atom_count': 6912, 'box_length': '4.45171', 'residues': {'nilu': {'atm_id': '1', 'coord': ['3.240', '1.188', '1.582']}}}, 'nimesulide': {'atom_count': 7128, 'box_length': '4.52773', 'residues': {'nime': {'atm_id': '1', 'coord': ['0.039', '0.678', '1.527']}}}, 'nitrendipine': {'atom_count': 9936, 'box_length': '5.01809', 'residues': {'nitr': {'atm_id': '1', 'coord': ['2.631', '4.767', '4.858']}}}, 'norethynodrel': {'atom_count': 10368, 'box_length': '4.85832', 'residues': {'nore': {'atm_id': '1', 'coord': ['2.727', '3.112', '1.728']}}}, 'omeprazole': {'atom_count': 9288, 'box_length': '4.80978', 'residues': {'omep': {'atm_id': '1', 'coord': ['0.683', '2.474', '3.639']}}}, 'pentobarbital': {'atom_count': 7344, 'box_length': '4.31177', 'residues': {'pent': {'atm_id': '1', 'coord': ['4.017', '0.590', '2.566']}}}, 'phenobarbital': {'atom_count': 6264, 'box_length': '4.21283', 'residues': {'phen': {'atm_id': '1', 'coord': ['0.581', '3.888', '3.602']}}}, 'phenylbutazone': {'atom_count': 9288, 'box_length': '4.89166', 'residues': {'phen': {'atm_id': '1', 'coord': ['2.245', '1.272', '3.203']}}}, 'physostigmine': {'atom_count': 8856, 'box_length': '4.55832', 'residues': {'phys': {'atm_id': '1', 'coord': ['3.601', '3.971', '3.756']}}}, 'pindolol': {'atom_count': 8208, 'box_length': '4.59214', 'residues': {'pind': {'atm_id': '1', 'coord': ['1.682', '1.608', '3.930']}}}, 'prednisone': {'atom_count': 11232, 'box_length': '4.98163', 'residues': {'pred': {'atm_id': '1', 'coord': ['3.520', '4.582', '3.413']}}}, 'primidone': {'atom_count': 6480, 'box_length': '4.20217', 'residues': {'prim': {'atm_id': '1', 'coord': ['1.698', '3.693', '0.874']}}}, 'pyrazinecarboxamide': {'atom_count': 3024, 'box_length': '3.35671', 'residues': {'pyra': {'atm_id': '1', 'coord': ['0.048', '1.483', '2.321']}}}, 'saccharin': {'atom_count': 3672, 'box_length': '3.61248', 'residues': {'sacc': {'atm_id': '1', 'coord': ['2.714', '2.216', '1.726']}}}, 'salicin': {'atom_count': 8208, 'box_length': '4.48541', 'residues': {'sali': {'atm_id': '1', 'coord': ['4.251', '4.316', '3.374']}}}, 'salicylic_acid': {'atom_count': 3456, 'box_length': '3.53829', 'residues': {'sali': {'atm_id': '1', 'coord': ['2.751', '3.025', '2.635']}}}, 'santonin': {'atom_count': 7776, 'box_length': '4.52581', 'residues': {'sant': {'atm_id': '1', 'coord': ['0.931', '0.727', '3.627']}}}, 'sorbitol': {'atom_count': 5616, 'box_length': '3.80399', 'residues': {'sorb': {'atm_id': '1', 'coord': ['1.352', '3.706', '0.378']}}}, 'sulfamethoxazole': {'atom_count': 6048, 'box_length': '4.24681', 'residues': {'sulf': {'atm_id': '1', 'coord': ['2.038', '0.556', '3.998']}}}, 'sulfanilamide': {'atom_count': 4104, 'box_length': '3.61713', 'residues': {'sulf': {'atm_id': '1', 'coord': ['0.973', '0.659', '3.425']}}}, 'sulfathiazole': {'atom_count': 5400, 'box_length': '4.17866', 'residues': {'sulf': {'atm_id': '1', 'coord': ['3.105', '1.981', '2.049']}}}, 'sulfisoxazole': {'atom_count': 6696, 'box_length': '4.36808', 'residues': {'sulf': {'atm_id': '1', 'coord': ['2.749', '2.603', '2.781']}}}, 'sulindac': {'atom_count': 9072, 'box_length': '4.85758', 'residues': {'suli': {'atm_id': '1', 'coord': ['4.133', '2.119', '4.826']}}}, 'tenofovir': {'atom_count': 7128, 'box_length': '4.41890', 'residues': {'teno': {'atm_id': '1', 'coord': ['0.584', '1.878', '4.343']}}}, 'testosterone': {'atom_count': 10584, 'box_length': '4.80168', 'residues': {'test': {'atm_id': '1', 'coord': ['4.163', '0.474', '2.420']}}}, 'theophylline': {'atom_count': 4536, 'box_length': '3.72621', 'residues': {'theo': {'atm_id': '1', 'coord': ['2.960', '0.155', '3.661']}}}, 'tinidazole': {'atom_count': 6264, 'box_length': '4.19128', 'residues': {'tini': {'atm_id': '1', 'coord': ['3.206', '3.541', '3.347']}}}, 'tolfenamic_acid': {'atom_count': 6696, 'box_length': '4.49267', 'residues': {'tolf': {'atm_id': '1', 'coord': ['1.303', '1.736', '1.254']}}}, 'tolnaftate': {'atom_count': 8424, 'box_length': '4.76901', 'residues': {'toln': {'atm_id': '1', 'coord': ['3.368', '3.591', '2.593']}}}, 'trimethoprim': {'atom_count': 8424, 'box_length': '4.64715', 'residues': {'trim': {'atm_id': '1', 'coord': ['3.543', '3.551', '4.636']}}}, 'tyramine': {'atom_count': 4536, 'box_length': '3.76369', 'residues': {'tyra': {'atm_id': '1', 'coord': ['2.412', '2.467', '2.723']}}}, 'warfarin': {'atom_count': 8424, 'box_length': '4.75493', 'residues': {'warf': {'atm_id': '1', 'coord': ['0.902', '1.864', '4.133']}}}, 'xylose': {'atom_count': 4320, 'box_length': '3.47744', 'residues': {'xylo': {'atm_id': '1', 'coord': ['2.990', '1.154', '1.691']}}}, 'zoxazolamine': {'atom_count': 3672, 'box_length': '3.67024', 'residues': {'zoxa': {'atm_id': '1', 'coord': ['0.778', '1.071', '3.174']}}}}\n"
     ]
    }
   ],
   "source": [
    "print(amo_gro)"
   ]
  },
  {
   "cell_type": "code",
   "execution_count": 5,
   "metadata": {},
   "outputs": [
    {
     "ename": "KeyboardInterrupt",
     "evalue": "",
     "output_type": "error",
     "traceback": [
      "\u001b[1;31m---------------------------------------------------------------------------\u001b[0m",
      "\u001b[1;31mKeyboardInterrupt\u001b[0m                         Traceback (most recent call last)",
      "\u001b[1;32m<ipython-input-5-bd27d81a19bb>\u001b[0m in \u001b[0;36m<module>\u001b[1;34m\u001b[0m\n\u001b[0;32m     13\u001b[0m             \u001b[1;32mif\u001b[0m \u001b[0mshort_mol\u001b[0m \u001b[1;32min\u001b[0m \u001b[0mres\u001b[0m\u001b[1;33m:\u001b[0m\u001b[1;33m\u001b[0m\u001b[1;33m\u001b[0m\u001b[0m\n\u001b[0;32m     14\u001b[0m                 \u001b[1;32mfor\u001b[0m \u001b[0matom\u001b[0m \u001b[1;32min\u001b[0m \u001b[0matm\u001b[0m\u001b[1;33m:\u001b[0m\u001b[1;33m\u001b[0m\u001b[1;33m\u001b[0m\u001b[0m\n\u001b[1;32m---> 15\u001b[1;33m                     \u001b[0matom_index\u001b[0m \u001b[1;33m=\u001b[0m \u001b[1;33m(\u001b[0m\u001b[0matm\u001b[0m\u001b[1;33m.\u001b[0m\u001b[0mindex\u001b[0m\u001b[1;33m(\u001b[0m\u001b[0matom\u001b[0m\u001b[1;33m)\u001b[0m\u001b[1;33m)\u001b[0m\u001b[1;33m\u001b[0m\u001b[1;33m\u001b[0m\u001b[0m\n\u001b[0m\u001b[0;32m     16\u001b[0m                     acec1_test[atom]={\n\u001b[0;32m     17\u001b[0m                         \u001b[1;34m'atom_id'\u001b[0m\u001b[1;33m:\u001b[0m\u001b[0matm_id\u001b[0m\u001b[1;33m[\u001b[0m\u001b[0matom_index\u001b[0m\u001b[1;33m]\u001b[0m\u001b[1;33m,\u001b[0m\u001b[1;33m\u001b[0m\u001b[1;33m\u001b[0m\u001b[0m\n",
      "\u001b[1;31mKeyboardInterrupt\u001b[0m: "
     ]
    }
   ],
   "source": [
    "directory = '../../Data/endOfEqGro'\n",
    "amo_gro={}\n",
    "\n",
    "for filename in os.listdir(directory):\n",
    "    if filename.endswith(\".gro\"):\n",
    "        read_gro(filename)\n",
    "        residues={}\n",
    "        acec1_test={}\n",
    "        for i in range(216):\n",
    "            short_mol=str(i+1)+molecule[0:4]\n",
    "            residues[short_mol]='<3'\n",
    "            if short_mol in res:\n",
    "                for atom in atm:\n",
    "                    atom_index = (atm.index(atom))\n",
    "                    acec1_test[atom]={\n",
    "                        'atom_id':atm_id[atom_index],\n",
    "                        'coord':coord[atom_index]\n",
    "                    }\n",
    "        \n",
    "        amo_gro[molecule]={\n",
    "            'atom_count':atom_count,\n",
    "            'box_length':box_length,\n",
    "            'residues':residues\n",
    "        }"
   ]
  },
  {
   "cell_type": "code",
   "execution_count": null,
   "metadata": {},
   "outputs": [],
   "source": [
    "print(amo_gro)"
   ]
  },
  {
   "cell_type": "code",
   "execution_count": 6,
   "metadata": {},
   "outputs": [
    {
     "ename": "KeyboardInterrupt",
     "evalue": "",
     "output_type": "error",
     "traceback": [
      "\u001b[1;31m---------------------------------------------------------------------------\u001b[0m",
      "\u001b[1;31mKeyboardInterrupt\u001b[0m                         Traceback (most recent call last)",
      "\u001b[1;32m<ipython-input-6-65524b65d0e9>\u001b[0m in \u001b[0;36m<module>\u001b[1;34m\u001b[0m\n\u001b[0;32m      6\u001b[0m     \u001b[0mres_test\u001b[0m\u001b[1;33m[\u001b[0m\u001b[0mres\u001b[0m\u001b[1;33m]\u001b[0m\u001b[1;33m=\u001b[0m\u001b[0macec1_test\u001b[0m\u001b[1;33m\u001b[0m\u001b[1;33m\u001b[0m\u001b[0m\n\u001b[0;32m      7\u001b[0m     \u001b[1;32mfor\u001b[0m \u001b[0matom\u001b[0m \u001b[1;32min\u001b[0m \u001b[0matm\u001b[0m\u001b[1;33m:\u001b[0m\u001b[1;33m\u001b[0m\u001b[1;33m\u001b[0m\u001b[0m\n\u001b[1;32m----> 8\u001b[1;33m                     \u001b[0matom_index\u001b[0m \u001b[1;33m=\u001b[0m \u001b[1;33m(\u001b[0m\u001b[0matm\u001b[0m\u001b[1;33m.\u001b[0m\u001b[0mindex\u001b[0m\u001b[1;33m(\u001b[0m\u001b[0matom\u001b[0m\u001b[1;33m)\u001b[0m\u001b[1;33m)\u001b[0m\u001b[1;33m\u001b[0m\u001b[1;33m\u001b[0m\u001b[0m\n\u001b[0m\u001b[0;32m      9\u001b[0m                     acec1_test[atom]={\n\u001b[0;32m     10\u001b[0m                         \u001b[1;34m'atom_id'\u001b[0m\u001b[1;33m:\u001b[0m\u001b[0matm_id\u001b[0m\u001b[1;33m[\u001b[0m\u001b[0matom_index\u001b[0m\u001b[1;33m]\u001b[0m\u001b[1;33m,\u001b[0m\u001b[1;33m\u001b[0m\u001b[1;33m\u001b[0m\u001b[0m\n",
      "\u001b[1;31mKeyboardInterrupt\u001b[0m: "
     ]
    }
   ],
   "source": [
    "res_test={\n",
    "    \n",
    "}\n",
    "for i in range(216):\n",
    "    res=f'acec{i+1}'\n",
    "    res_test[res]=acec1_test\n",
    "    for atom in atm:\n",
    "                    atom_index = (atm.index(atom))\n",
    "                    acec1_test[atom]={\n",
    "                        'atom_id':atm_id[atom_index],\n",
    "                        'coord':coord[atom_index]\n",
    "                    }"
   ]
  },
  {
   "cell_type": "code",
   "execution_count": 97,
   "metadata": {
    "scrolled": true
   },
   "outputs": [
    {
     "ename": "KeyboardInterrupt",
     "evalue": "",
     "output_type": "error",
     "traceback": [
      "\u001b[1;31m---------------------------------------------------------------------------\u001b[0m",
      "\u001b[1;31mKeyboardInterrupt\u001b[0m                         Traceback (most recent call last)",
      "\u001b[1;32m<ipython-input-97-5d78442b4481>\u001b[0m in \u001b[0;36m<module>\u001b[1;34m\u001b[0m\n\u001b[0;32m     13\u001b[0m             \u001b[1;32mif\u001b[0m \u001b[0mstr\u001b[0m\u001b[1;33m(\u001b[0m\u001b[0mi\u001b[0m\u001b[1;33m+\u001b[0m\u001b[1;36m1\u001b[0m\u001b[1;33m)\u001b[0m\u001b[1;33m+\u001b[0m\u001b[0mmolecule\u001b[0m\u001b[1;33m[\u001b[0m\u001b[1;36m0\u001b[0m\u001b[1;33m:\u001b[0m\u001b[1;36m4\u001b[0m\u001b[1;33m]\u001b[0m \u001b[1;32min\u001b[0m \u001b[0mres\u001b[0m\u001b[1;33m:\u001b[0m\u001b[1;33m\u001b[0m\u001b[1;33m\u001b[0m\u001b[0m\n\u001b[0;32m     14\u001b[0m                 \u001b[1;32mfor\u001b[0m \u001b[0matom\u001b[0m \u001b[1;32min\u001b[0m \u001b[0matm\u001b[0m\u001b[1;33m:\u001b[0m\u001b[1;33m\u001b[0m\u001b[1;33m\u001b[0m\u001b[0m\n\u001b[1;32m---> 15\u001b[1;33m                     \u001b[0matom_index\u001b[0m \u001b[1;33m=\u001b[0m \u001b[1;33m(\u001b[0m\u001b[0matm\u001b[0m\u001b[1;33m.\u001b[0m\u001b[0mindex\u001b[0m\u001b[1;33m(\u001b[0m\u001b[0matom\u001b[0m\u001b[1;33m)\u001b[0m\u001b[1;33m)\u001b[0m\u001b[1;33m\u001b[0m\u001b[1;33m\u001b[0m\u001b[0m\n\u001b[0m\u001b[0;32m     16\u001b[0m                     acec1_test[atom]={\n\u001b[0;32m     17\u001b[0m                         \u001b[1;34m'atom_id'\u001b[0m\u001b[1;33m:\u001b[0m\u001b[0matm_id\u001b[0m\u001b[1;33m[\u001b[0m\u001b[0matom_index\u001b[0m\u001b[1;33m]\u001b[0m\u001b[1;33m,\u001b[0m\u001b[1;33m\u001b[0m\u001b[1;33m\u001b[0m\u001b[0m\n",
      "\u001b[1;31mKeyboardInterrupt\u001b[0m: "
     ]
    }
   ],
   "source": [
    "directory = '../../Data/endOfEqGro'\n",
    "amo_gro={}\n",
    "acec1_test\n",
    "\n",
    "for filename in os.listdir(directory):\n",
    "    if filename.endswith(\".gro\"):\n",
    "        read_gro(filename)\n",
    "        amo_gro[molecule]={\n",
    "            'atom_count':atom_count,\n",
    "            'box_length':box_length\n",
    "        }\n",
    " \n",
    "        \n",
    "        \n",
    "         "
   ]
  },
  {
   "cell_type": "code",
   "execution_count": 33,
   "metadata": {},
   "outputs": [
    {
     "name": "stdout",
     "output_type": "stream",
     "text": [
      "Wall time: 4.22 s\n"
     ]
    }
   ],
   "source": [
    "directory = '../../Data/endOfEqGro'\n",
    "amo_gro={}\n",
    "\n",
    "for filename in os.listdir(directory):\n",
    "    if filename.endswith(\".gro\"):\n",
    "        read_gro(filename)\n",
    "        residues={}\n",
    "        for i in range(216):\n",
    "            short_mol=str(i+1)+molecule[0:4]\n",
    "            residues[short_mol]='<3'\n",
    "        amo_gro[molecule]={\n",
    "            'atom_count':atom_count,\n",
    "            'box_length':box_length,\n",
    "            'residues':residues\n",
    "        }\n",
    "       "
   ]
  },
  {
   "cell_type": "code",
   "execution_count": 9,
   "metadata": {},
   "outputs": [
    {
     "name": "stdout",
     "output_type": "stream",
     "text": [
      "Wall time: 2.28 s\n"
     ]
    }
   ],
   "source": [
    "%%time\n",
    "\n",
    "directory = '../../Data/endOfEqGro'\n",
    "amo_gro={}\n",
    "\n",
    "for filename in os.listdir(directory):\n",
    "    if filename.endswith(\"aceclofenac.gro\"):\n",
    "        read_gro(filename)\n",
    "        residues={}\n",
    "        atom={}\n",
    "        for i in range(atom_count):\n",
    "            short_mol=str(i+1)+molecule[0:4]\n",
    "            if short_mol in res:\n",
    "                atom[atm[i]]=atm_id[i], coord[i]\n",
    "            residues[short_mol]=atom\n",
    "        amo_gro[molecule]={\n",
    "            'atom_count':atom_count,\n",
    "            'box_length':box_length,\n",
    "            'residues':residues\n",
    "        }\n",
    "       "
   ]
  },
  {
   "cell_type": "code",
   "execution_count": 33,
   "metadata": {},
   "outputs": [
    {
     "name": "stdout",
     "output_type": "stream",
     "text": [
      "Wall time: 3min 10s\n"
     ]
    }
   ],
   "source": [
    "%%time\n",
    "\n",
    "directory = '../../Data/endOfEqGro'\n",
    "amo_gro={}\n",
    "\n",
    "for filename in os.listdir(directory):\n",
    "    if filename.endswith(\".gro\"):\n",
    "        read_gro(filename)\n",
    "        residues={}\n",
    "        atom={}\n",
    "        atom_id={}\n",
    "        coordinate={}\n",
    "        for i in range(atom_count):\n",
    "            short_mol=str(i+1)+molecule[0:4]\n",
    "            if short_mol in res:\n",
    "                atom[atm[i]]={\n",
    "                    'atom_id':atm_id[i],\n",
    "                    'coord':coord[i]\n",
    "                }\n",
    "            residues[short_mol]=atom\n",
    "        amo_gro[molecule]={\n",
    "            'atom_count':atom_count,\n",
    "            'box_length':box_length,\n",
    "            'residues':residues\n",
    "        }\n",
    "       "
   ]
  },
  {
   "cell_type": "code",
   "execution_count": 34,
   "metadata": {},
   "outputs": [
    {
     "data": {
      "text/plain": [
       "dict_keys(['aceclofenac', 'acemetacin', 'acetaminophen', 'acetohexamide', 'albendazole', 'amobarbital', 'atropine', 'bicalutamide', 'bifonazole', 'bucetin', 'bucindolol', 'bufexmac', 'caffeine', 'captopril', 'carbamazepine', 'carvedilol', 'cefoxitin', 'celecoxib', 'cellobiose', 'chloramphenicol', 'chlorzoxazone', 'cinnarizine', 'clemastine', 'clotrimazole', 'diazepam', 'diethylstilbestrol', 'diflunisal', 'dyphylline', 'emtricitabine', 'estradiol', 'ezetimibe', 'famotide', 'felodipine', 'fenbufen', 'flumequine', 'flurbiprofen', 'glafenine', 'glyburide', 'griseofulvin', 'hydrochlorothiazide', 'hydroflumethiazide', 'hymecromone', 'ibuprofen', 'indomethacin', 'indoprofen', 'isradipine', 'ketoprofen', 'lactose', 'lamivudine', 'linaprazan', 'mannitol', 'mefenamic_acid', 'mephenesin', 'methyltestosterone', 'metolazone', 'miconazole', 'nandrolone', 'naproxen', 'nialamide', 'nifedipine', 'nilutamide', 'nimesulide', 'nitrendipine', 'norethynodrel', 'omeprazole', 'pentobarbital', 'phenobarbital', 'phenylbutazone', 'physostigmine', 'pindolol', 'prednisone', 'primidone', 'pyrazinecarboxamide', 'saccharin', 'salicin', 'salicylic_acid', 'santonin', 'sorbitol', 'sulfamethoxazole', 'sulfanilamide', 'sulfathiazole', 'sulfisoxazole', 'sulindac', 'tenofovir', 'testosterone', 'theophylline', 'tinidazole', 'tolfenamic_acid', 'tolnaftate', 'trimethoprim', 'tyramine', 'warfarin', 'xylose', 'zoxazolamine'])"
      ]
     },
     "execution_count": 34,
     "metadata": {},
     "output_type": "execute_result"
    }
   ],
   "source": [
    "amo_gro.keys()"
   ]
  },
  {
   "cell_type": "code",
   "execution_count": 7,
   "metadata": {},
   "outputs": [
    {
     "name": "stdout",
     "output_type": "stream",
     "text": [
      "{}\n"
     ]
    }
   ],
   "source": [
    "# one dictionary created here, how to loop for dictionary creation?\n",
    "acec1_test={\n",
    "    \n",
    "}\n",
    "\n",
    "# 216 unique residues in each sample, len(set(res))\n",
    "# 38 atoms per residue for acec, len(set(atm))\n",
    "\n",
    "for i in range(216):\n",
    "    # narrows down to a set of 38\n",
    "    if f'{i+1}acec' in res:\n",
    "        for atom in atm:\n",
    "            atom_index = (atm.index(atom))\n",
    "            acec1_test[atom]={\n",
    "                'atom_id':atm_id[atom_index],\n",
    "                'coord':coord[atom_index]\n",
    "            }\n",
    "            \n",
    "print(acec1_test)"
   ]
  },
  {
   "cell_type": "code",
   "execution_count": 8,
   "metadata": {},
   "outputs": [
    {
     "name": "stdout",
     "output_type": "stream",
     "text": [
      "{'acec1': {}, 'acec2': {}, 'acec3': {}, 'acec4': {}, 'acec5': {}, 'acec6': {}, 'acec7': {}, 'acec8': {}, 'acec9': {}, 'acec10': {}, 'acec11': {}, 'acec12': {}, 'acec13': {}, 'acec14': {}, 'acec15': {}, 'acec16': {}, 'acec17': {}, 'acec18': {}, 'acec19': {}, 'acec20': {}, 'acec21': {}, 'acec22': {}, 'acec23': {}, 'acec24': {}, 'acec25': {}, 'acec26': {}, 'acec27': {}, 'acec28': {}, 'acec29': {}, 'acec30': {}, 'acec31': {}, 'acec32': {}, 'acec33': {}, 'acec34': {}, 'acec35': {}, 'acec36': {}, 'acec37': {}, 'acec38': {}, 'acec39': {}, 'acec40': {}, 'acec41': {}, 'acec42': {}, 'acec43': {}, 'acec44': {}, 'acec45': {}, 'acec46': {}, 'acec47': {}, 'acec48': {}, 'acec49': {}, 'acec50': {}, 'acec51': {}, 'acec52': {}, 'acec53': {}, 'acec54': {}, 'acec55': {}, 'acec56': {}, 'acec57': {}, 'acec58': {}, 'acec59': {}, 'acec60': {}, 'acec61': {}, 'acec62': {}, 'acec63': {}, 'acec64': {}, 'acec65': {}, 'acec66': {}, 'acec67': {}, 'acec68': {}, 'acec69': {}, 'acec70': {}, 'acec71': {}, 'acec72': {}, 'acec73': {}, 'acec74': {}, 'acec75': {}, 'acec76': {}, 'acec77': {}, 'acec78': {}, 'acec79': {}, 'acec80': {}, 'acec81': {}, 'acec82': {}, 'acec83': {}, 'acec84': {}, 'acec85': {}, 'acec86': {}, 'acec87': {}, 'acec88': {}, 'acec89': {}, 'acec90': {}, 'acec91': {}, 'acec92': {}, 'acec93': {}, 'acec94': {}, 'acec95': {}, 'acec96': {}, 'acec97': {}, 'acec98': {}, 'acec99': {}, 'acec100': {}, 'acec101': {}, 'acec102': {}, 'acec103': {}, 'acec104': {}, 'acec105': {}, 'acec106': {}, 'acec107': {}, 'acec108': {}, 'acec109': {}, 'acec110': {}, 'acec111': {}, 'acec112': {}, 'acec113': {}, 'acec114': {}, 'acec115': {}, 'acec116': {}, 'acec117': {}, 'acec118': {}, 'acec119': {}, 'acec120': {}, 'acec121': {}, 'acec122': {}, 'acec123': {}, 'acec124': {}, 'acec125': {}, 'acec126': {}, 'acec127': {}, 'acec128': {}, 'acec129': {}, 'acec130': {}, 'acec131': {}, 'acec132': {}, 'acec133': {}, 'acec134': {}, 'acec135': {}, 'acec136': {}, 'acec137': {}, 'acec138': {}, 'acec139': {}, 'acec140': {}, 'acec141': {}, 'acec142': {}, 'acec143': {}, 'acec144': {}, 'acec145': {}, 'acec146': {}, 'acec147': {}, 'acec148': {}, 'acec149': {}, 'acec150': {}, 'acec151': {}, 'acec152': {}, 'acec153': {}, 'acec154': {}, 'acec155': {}, 'acec156': {}, 'acec157': {}, 'acec158': {}, 'acec159': {}, 'acec160': {}, 'acec161': {}, 'acec162': {}, 'acec163': {}, 'acec164': {}, 'acec165': {}, 'acec166': {}, 'acec167': {}, 'acec168': {}, 'acec169': {}, 'acec170': {}, 'acec171': {}, 'acec172': {}, 'acec173': {}, 'acec174': {}, 'acec175': {}, 'acec176': {}, 'acec177': {}, 'acec178': {}, 'acec179': {}, 'acec180': {}, 'acec181': {}, 'acec182': {}, 'acec183': {}, 'acec184': {}, 'acec185': {}, 'acec186': {}, 'acec187': {}, 'acec188': {}, 'acec189': {}, 'acec190': {}, 'acec191': {}, 'acec192': {}, 'acec193': {}, 'acec194': {}, 'acec195': {}, 'acec196': {}, 'acec197': {}, 'acec198': {}, 'acec199': {}, 'acec200': {}, 'acec201': {}, 'acec202': {}, 'acec203': {}, 'acec204': {}, 'acec205': {}, 'acec206': {}, 'acec207': {}, 'acec208': {}, 'acec209': {}, 'acec210': {}, 'acec211': {}, 'acec212': {}, 'acec213': {}, 'acec214': {}, 'acec215': {}, 'acec216': {}}\n"
     ]
    }
   ],
   "source": [
    "res_test={\n",
    "    \n",
    "}\n",
    "\n",
    "for i in range(216):\n",
    "    res=f'acec{i+1}'\n",
    "    res_test[res]=acec1_test\n",
    "print(res_test)"
   ]
  },
  {
   "cell_type": "code",
   "execution_count": 644,
   "metadata": {},
   "outputs": [
    {
     "name": "stdout",
     "output_type": "stream",
     "text": [
      "215\n"
     ]
    }
   ],
   "source": [
    "# working cell "
   ]
  },
  {
   "cell_type": "code",
   "execution_count": 648,
   "metadata": {},
   "outputs": [
    {
     "name": "stdout",
     "output_type": "stream",
     "text": [
      "{'216acec': {}}\n"
     ]
    }
   ],
   "source": [
    "# discarded code\n",
    "res_test={\n",
    "    \n",
    "}\n",
    "\n",
    "res_label=[]\n",
    "for i in range(216):\n",
    "    res_label.append(f'{i+1}acec')\n",
    "\n",
    "for i in res_label:\n",
    "    res_index = res_label.index(i)\n",
    "    res_test[res_label[res_in]]={}\n",
    "    if f'acec{res_in+1}' in res:\n",
    "        for a in atom:\n",
    "            index = (atom.index(a))\n",
    "            res_test[res_label[res_in]][a]=[atom_ident[index], coordinate[index]]"
   ]
  },
  {
   "cell_type": "code",
   "execution_count": 634,
   "metadata": {},
   "outputs": [
    {
     "data": {
      "text/plain": [
       "38"
      ]
     },
     "execution_count": 634,
     "metadata": {},
     "output_type": "execute_result"
    }
   ],
   "source": [
    "# misc commands\n",
    "set(atm)\n",
    "len(set(atm))"
   ]
  },
  {
   "cell_type": "code",
   "execution_count": null,
   "metadata": {},
   "outputs": [],
   "source": [
    "# edit filename as store as a string\n",
    "# loop through given folder"
   ]
  },
  {
   "cell_type": "code",
   "execution_count": 601,
   "metadata": {
    "scrolled": true
   },
   "outputs": [
    {
     "data": {
      "text/html": [
       "<div>\n",
       "<style scoped>\n",
       "    .dataframe tbody tr th:only-of-type {\n",
       "        vertical-align: middle;\n",
       "    }\n",
       "\n",
       "    .dataframe tbody tr th {\n",
       "        vertical-align: top;\n",
       "    }\n",
       "\n",
       "    .dataframe thead th {\n",
       "        text-align: right;\n",
       "    }\n",
       "</style>\n",
       "<table border=\"1\" class=\"dataframe\">\n",
       "  <thead>\n",
       "    <tr style=\"text-align: right;\">\n",
       "      <th></th>\n",
       "      <th>Residue</th>\n",
       "      <th>Atom</th>\n",
       "      <th>x</th>\n",
       "      <th>y</th>\n",
       "      <th>z</th>\n",
       "    </tr>\n",
       "    <tr>\n",
       "      <th>Atom ID</th>\n",
       "      <th></th>\n",
       "      <th></th>\n",
       "      <th></th>\n",
       "      <th></th>\n",
       "      <th></th>\n",
       "    </tr>\n",
       "  </thead>\n",
       "  <tbody>\n",
       "    <tr>\n",
       "      <th>1</th>\n",
       "      <td>1acec</td>\n",
       "      <td>C1</td>\n",
       "      <td>3.727</td>\n",
       "      <td>3.591</td>\n",
       "      <td>1.026</td>\n",
       "    </tr>\n",
       "    <tr>\n",
       "      <th>2</th>\n",
       "      <td>1acec</td>\n",
       "      <td>C2</td>\n",
       "      <td>3.618</td>\n",
       "      <td>3.670</td>\n",
       "      <td>0.989</td>\n",
       "    </tr>\n",
       "    <tr>\n",
       "      <th>3</th>\n",
       "      <td>1acec</td>\n",
       "      <td>C3</td>\n",
       "      <td>3.582</td>\n",
       "      <td>3.775</td>\n",
       "      <td>1.081</td>\n",
       "    </tr>\n",
       "    <tr>\n",
       "      <th>4</th>\n",
       "      <td>1acec</td>\n",
       "      <td>C4</td>\n",
       "      <td>3.668</td>\n",
       "      <td>3.813</td>\n",
       "      <td>1.185</td>\n",
       "    </tr>\n",
       "    <tr>\n",
       "      <th>5</th>\n",
       "      <td>1acec</td>\n",
       "      <td>C5</td>\n",
       "      <td>3.786</td>\n",
       "      <td>3.742</td>\n",
       "      <td>1.206</td>\n",
       "    </tr>\n",
       "    <tr>\n",
       "      <th>...</th>\n",
       "      <td>...</td>\n",
       "      <td>...</td>\n",
       "      <td>...</td>\n",
       "      <td>...</td>\n",
       "      <td>...</td>\n",
       "    </tr>\n",
       "    <tr>\n",
       "      <th>8204</th>\n",
       "      <td>216acec</td>\n",
       "      <td>H11</td>\n",
       "      <td>0.420</td>\n",
       "      <td>4.215</td>\n",
       "      <td>3.496</td>\n",
       "    </tr>\n",
       "    <tr>\n",
       "      <th>8205</th>\n",
       "      <td>216acec</td>\n",
       "      <td>H12</td>\n",
       "      <td>0.304</td>\n",
       "      <td>3.999</td>\n",
       "      <td>3.548</td>\n",
       "    </tr>\n",
       "    <tr>\n",
       "      <th>8206</th>\n",
       "      <td>216acec</td>\n",
       "      <td>H13</td>\n",
       "      <td>0.405</td>\n",
       "      <td>3.846</td>\n",
       "      <td>3.705</td>\n",
       "    </tr>\n",
       "    <tr>\n",
       "      <th>8207</th>\n",
       "      <td>216acec</td>\n",
       "      <td>LP1</td>\n",
       "      <td>0.567</td>\n",
       "      <td>3.979</td>\n",
       "      <td>3.766</td>\n",
       "    </tr>\n",
       "    <tr>\n",
       "      <th>8208</th>\n",
       "      <td>216acec</td>\n",
       "      <td>LP2</td>\n",
       "      <td>0.575</td>\n",
       "      <td>4.198</td>\n",
       "      <td>3.636</td>\n",
       "    </tr>\n",
       "  </tbody>\n",
       "</table>\n",
       "<p>16416 rows × 5 columns</p>\n",
       "</div>"
      ],
      "text/plain": [
       "         Residue Atom      x      y      z\n",
       "Atom ID                                   \n",
       "1          1acec   C1  3.727  3.591  1.026\n",
       "2          1acec   C2  3.618  3.670  0.989\n",
       "3          1acec   C3  3.582  3.775  1.081\n",
       "4          1acec   C4  3.668  3.813  1.185\n",
       "5          1acec   C5  3.786  3.742  1.206\n",
       "...          ...  ...    ...    ...    ...\n",
       "8204     216acec  H11  0.420  4.215  3.496\n",
       "8205     216acec  H12  0.304  3.999  3.548\n",
       "8206     216acec  H13  0.405  3.846  3.705\n",
       "8207     216acec  LP1  0.567  3.979  3.766\n",
       "8208     216acec  LP2  0.575  4.198  3.636\n",
       "\n",
       "[16416 rows x 5 columns]"
      ]
     },
     "execution_count": 601,
     "metadata": {},
     "output_type": "execute_result"
    }
   ],
   "source": [
    "# pandas trial\n",
    "\n",
    "\n",
    "# add all relevant columns to DataFrame\n",
    "df = pd.DataFrame(list(zip(res, atm, atm_id, x, y, z)),\n",
    "                  columns=['Residue', 'Atom', 'Atom ID', 'x', 'y', 'z'])\n",
    "\n",
    "# set atom ID to index, as it is a unique identifier\n",
    "df.set_index('Atom ID')"
   ]
  },
  {
   "cell_type": "code",
   "execution_count": 603,
   "metadata": {},
   "outputs": [
    {
     "name": "stdout",
     "output_type": "stream",
     "text": [
      "3.727 3.591 1.026\n",
      "3.618 3.775 1.081\n"
     ]
    },
    {
     "data": {
      "text/plain": [
       "0.00974549999999998"
      ]
     },
     "execution_count": 603,
     "metadata": {},
     "output_type": "execute_result"
    }
   ],
   "source": [
    "# convert to numerical data from string for calculation\n",
    "df[[\"x\", \"y\", 'z']] = df[['x', 'y', 'z']].apply(pd.to_numeric)\n",
    "\n",
    "# coordinates of acec1, C1 and C2\n",
    "print(df['x'][0], df['y'][0], df['z'][0])\n",
    "print(df['x'][1], df['y'][2], df['z'][2])\n",
    "\n",
    "# distance between C1 and C2 in nm (similar approach required for H-bond distances)\n",
    "((((df['x'][0]-df['x'][1])**2)+(df['y'][0]-df['y'][1])**2 + (df['z'][0]-df['z'][1])**2)**1/2)"
   ]
  }
 ],
 "metadata": {
  "kernelspec": {
   "display_name": "Python 3",
   "language": "python",
   "name": "python3"
  },
  "language_info": {
   "codemirror_mode": {
    "name": "ipython",
    "version": 3
   },
   "file_extension": ".py",
   "mimetype": "text/x-python",
   "name": "python",
   "nbconvert_exporter": "python",
   "pygments_lexer": "ipython3",
   "version": "3.8.8"
  }
 },
 "nbformat": 4,
 "nbformat_minor": 4
}
