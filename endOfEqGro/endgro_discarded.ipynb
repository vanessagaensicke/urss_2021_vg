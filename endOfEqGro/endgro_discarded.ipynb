{
 "cells": [
  {
   "cell_type": "code",
   "execution_count": null,
   "metadata": {},
   "outputs": [],
   "source": [
    "# discarded code 1\n",
    "res_test={\n",
    "    \n",
    "}\n",
    "\n",
    "res_label=[]\n",
    "for i in range(216):\n",
    "    res_label.append(f'{i+1}acec')\n",
    "\n",
    "for i in res_label:\n",
    "    res_index = res_label.index(i)\n",
    "    res_test[res_label[res_in]]={}\n",
    "    if f'acec{res_in+1}' in res:\n",
    "        for a in atom:\n",
    "            index = (atom.index(a))\n",
    "            res_test[res_label[res_in]][a]=[atom_ident[index], coordinate[index]]"
   ]
  },
  {
   "cell_type": "code",
   "execution_count": null,
   "metadata": {},
   "outputs": [],
   "source": [
    "# discarded code 2\n",
    "res_test={\n",
    "    \n",
    "}\n",
    "\n",
    "for i in range(216):\n",
    "    res=f'acec{i+1}'\n",
    "    res_test[res]=acec1_test\n",
    "print(res_test)"
   ]
  },
  {
   "cell_type": "code",
   "execution_count": null,
   "metadata": {},
   "outputs": [],
   "source": [
    "# discarded code 3\n",
    "\n",
    "# one dictionary created here, how to loop for dictionary creation?\n",
    "acec1_test={\n",
    "    \n",
    "}\n",
    "\n",
    "# 216 unique residues in each sample, len(set(res))\n",
    "# 38 atoms per residue for acec, len(set(atm))\n",
    "\n",
    "for i in range(216):\n",
    "    # narrows down to a set of 38\n",
    "    if f'{i+1}acec' in res:\n",
    "        for atom in atm:\n",
    "            atom_index = (atm.index(atom))\n",
    "            acec1_test[atom]={\n",
    "                'atom_id':atm_id[atom_index],\n",
    "                'coord':coord[atom_index]\n",
    "            }\n",
    "            \n",
    "print(acec1_test)"
   ]
  },
  {
   "cell_type": "code",
   "execution_count": null,
   "metadata": {},
   "outputs": [],
   "source": [
    "# discared code 4\n",
    "directory = '../../Data/endOfEqGro'\n",
    "amo_gro={}\n",
    "\n",
    "for filename in os.listdir(directory):\n",
    "    if filename.endswith(\".gro\"):\n",
    "        read_gro(filename)\n",
    "        residues={}\n",
    "        for i in range(216):\n",
    "            short_mol=str(i+1)+molecule[0:4]\n",
    "            residues[short_mol]='<3'\n",
    "        amo_gro[molecule]={\n",
    "            'atom_count':atom_count,\n",
    "            'box_length':box_length,\n",
    "            'residues':residues\n",
    "        }"
   ]
  },
  {
   "cell_type": "code",
   "execution_count": null,
   "metadata": {},
   "outputs": [],
   "source": [
    "# discarded code 5\n",
    "directory = '../../Data/endOfEqGro'\n",
    "amo_gro={}\n",
    "acec1_test\n",
    "\n",
    "for filename in os.listdir(directory):\n",
    "    if filename.endswith(\".gro\"):\n",
    "        read_gro(filename)\n",
    "        amo_gro[molecule]={\n",
    "            'atom_count':atom_count,\n",
    "            'box_length':box_length\n",
    "        }"
   ]
  },
  {
   "cell_type": "code",
   "execution_count": null,
   "metadata": {},
   "outputs": [],
   "source": [
    "# discarded code 6\n",
    "res_test={\n",
    "    \n",
    "}\n",
    "for i in range(216):\n",
    "    res=f'acec{i+1}'\n",
    "    res_test[res]=acec1_test\n",
    "    for atom in atm:\n",
    "                    atom_index = (atm.index(atom))\n",
    "                    acec1_test[atom]={\n",
    "                        'atom_id':atm_id[atom_index],\n",
    "                        'coord':coord[atom_index]\n",
    "                    }"
   ]
  },
  {
   "cell_type": "code",
   "execution_count": null,
   "metadata": {},
   "outputs": [],
   "source": [
    "# discarded code 7\n",
    "directory = '../../Data/endOfEqGro'\n",
    "amo_gro={}\n",
    "\n",
    "for filename in os.listdir(directory):\n",
    "    if filename.endswith(\".gro\"):\n",
    "        read_gro(filename)\n",
    "        residues={}\n",
    "        acec1_test={}\n",
    "        for i in range(216):\n",
    "            short_mol=str(i+1)+molecule[0:4]\n",
    "            residues[short_mol]='<3'\n",
    "            if short_mol in res:\n",
    "                for atom in atm:\n",
    "                    atom_index = (atm.index(atom))\n",
    "                    acec1_test[atom]={\n",
    "                        'atom_id':atm_id[atom_index],\n",
    "                        'coord':coord[atom_index]\n",
    "                    }\n",
    "        \n",
    "        amo_gro[molecule]={\n",
    "            'atom_count':atom_count,\n",
    "            'box_length':box_length,\n",
    "            'residues':residues\n",
    "        }"
   ]
  },
  {
   "cell_type": "code",
   "execution_count": null,
   "metadata": {},
   "outputs": [],
   "source": [
    "# discarded code 8\n",
    "directory = '../../Data/endOfEqGro'\n",
    "amo_gro={}\n",
    "\n",
    "for filename in os.listdir(directory):\n",
    "    if filename.endswith(\".gro\"):\n",
    "        read_gro(filename)\n",
    "        amo_gro[molecule]={\n",
    "            'atom_count':atom_count,\n",
    "            'box_length':box_length,\n",
    "            'residues':{\n",
    "                molecule[0:4]:{\n",
    "                    'atm_id':atm_id[0],\n",
    "                    'coord':coord[0]\n",
    "                }\n",
    "            }\n",
    "        }"
   ]
  }
 ],
 "metadata": {
  "kernelspec": {
   "display_name": "Python 3",
   "language": "python",
   "name": "python3"
  },
  "language_info": {
   "codemirror_mode": {
    "name": "ipython",
    "version": 3
   },
   "file_extension": ".py",
   "mimetype": "text/x-python",
   "name": "python",
   "nbconvert_exporter": "python",
   "pygments_lexer": "ipython3",
   "version": "3.7.4"
  }
 },
 "nbformat": 4,
 "nbformat_minor": 2
}
